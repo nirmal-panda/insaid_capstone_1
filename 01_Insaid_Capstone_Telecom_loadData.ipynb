{
 "cells": [
  {
   "cell_type": "markdown",
   "id": "fe114574",
   "metadata": {},
   "source": [
    "# Section 1"
   ]
  },
  {
   "cell_type": "markdown",
   "id": "dcb1dd7a",
   "metadata": {},
   "source": [
    "### Extract Data from SQL"
   ]
  },
  {
   "cell_type": "code",
   "execution_count": 1,
   "id": "105eff8a",
   "metadata": {},
   "outputs": [
    {
     "name": "stdout",
     "output_type": "stream",
     "text": [
      "Collecting mysql-connector-python\n",
      "  Downloading mysql_connector_python-8.0.25-cp38-cp38-manylinux1_x86_64.whl (25.4 MB)\n",
      "\u001b[K     |████████████████████████████████| 25.4 MB 16.2 MB/s eta 0:00:01     |████████████████████████████▋   | 22.8 MB 16.2 MB/s eta 0:00:01     |██████████████████████████████▍ | 24.2 MB 16.2 MB/s eta 0:00:01\n",
      "\u001b[?25hRequirement already satisfied: protobuf>=3.0.0 in /opt/conda/lib/python3.8/site-packages (from mysql-connector-python) (3.15.8)\n",
      "Requirement already satisfied: six>=1.9 in /opt/conda/lib/python3.8/site-packages (from protobuf>=3.0.0->mysql-connector-python) (1.15.0)\n",
      "Installing collected packages: mysql-connector-python\n",
      "Successfully installed mysql-connector-python-8.0.25\n",
      "Note: you may need to restart the kernel to use updated packages.\n"
     ]
    }
   ],
   "source": [
    "pip install mysql-connector-python"
   ]
  },
  {
   "cell_type": "code",
   "execution_count": 16,
   "id": "5fec2de9",
   "metadata": {
    "scrolled": true
   },
   "outputs": [],
   "source": [
    "import mysql.connector as sql\n"
   ]
  },
  {
   "cell_type": "code",
   "execution_count": 17,
   "id": "c87c48c1",
   "metadata": {},
   "outputs": [],
   "source": [
    "try:\n",
    "    db_connection = sql.connect(host='cpanel.insaid.co', database='Capstone1', user='student', password='student')\n",
    "    db_cursor = db_connection.cursor()\n",
    "except (Exception, sql.Error) as error :\n",
    "  print(\"Error while connecting to MySQL\", error)"
   ]
  },
  {
   "cell_type": "code",
   "execution_count": 18,
   "id": "dd986ad4",
   "metadata": {},
   "outputs": [],
   "source": [
    "import pandas as pd\n",
    "import numpy as np\n",
    "import seaborn as sns\n",
    "import matplotlib.pyplot as plt\n",
    "%matplotlib inline\n",
    "\n",
    "from IPython.display import display\n",
    "\n",
    "pd.set_option('display.float_format', '{:.2f}'.format)\n",
    "pd.set_option('display.max_rows', None)\n",
    "pd.set_option('display.max_columns', None)"
   ]
  },
  {
   "cell_type": "code",
   "execution_count": null,
   "id": "86519842",
   "metadata": {},
   "outputs": [],
   "source": []
  },
  {
   "cell_type": "code",
   "execution_count": 19,
   "id": "2befb7f8",
   "metadata": {},
   "outputs": [],
   "source": [
    "#gender_age_train - Devices and their respective user gender, age and age_group\n",
    "\n",
    "db_cursor.execute('SELECT * FROM gender_age_train')\n",
    "\n",
    "table_rows = db_cursor.fetchall()\n",
    "\n",
    "df = pd.DataFrame(table_rows,columns=['device_id','user_gender', 'age', 'age_group'])"
   ]
  },
  {
   "cell_type": "code",
   "execution_count": 20,
   "id": "20ffcd8d",
   "metadata": {},
   "outputs": [
    {
     "data": {
      "text/html": [
       "<div>\n",
       "<style scoped>\n",
       "    .dataframe tbody tr th:only-of-type {\n",
       "        vertical-align: middle;\n",
       "    }\n",
       "\n",
       "    .dataframe tbody tr th {\n",
       "        vertical-align: top;\n",
       "    }\n",
       "\n",
       "    .dataframe thead th {\n",
       "        text-align: right;\n",
       "    }\n",
       "</style>\n",
       "<table border=\"1\" class=\"dataframe\">\n",
       "  <thead>\n",
       "    <tr style=\"text-align: right;\">\n",
       "      <th></th>\n",
       "      <th>device_id</th>\n",
       "      <th>user_gender</th>\n",
       "      <th>age</th>\n",
       "      <th>age_group</th>\n",
       "    </tr>\n",
       "  </thead>\n",
       "  <tbody>\n",
       "    <tr>\n",
       "      <th>0</th>\n",
       "      <td>-8076087639492063270</td>\n",
       "      <td>M</td>\n",
       "      <td>35</td>\n",
       "      <td>M32-38</td>\n",
       "    </tr>\n",
       "    <tr>\n",
       "      <th>1</th>\n",
       "      <td>-2897161552818060146</td>\n",
       "      <td>M</td>\n",
       "      <td>35</td>\n",
       "      <td>M32-38</td>\n",
       "    </tr>\n",
       "    <tr>\n",
       "      <th>2</th>\n",
       "      <td>-8260683887967679142</td>\n",
       "      <td>M</td>\n",
       "      <td>35</td>\n",
       "      <td>M32-38</td>\n",
       "    </tr>\n",
       "    <tr>\n",
       "      <th>3</th>\n",
       "      <td>-4938849341048082022</td>\n",
       "      <td>M</td>\n",
       "      <td>30</td>\n",
       "      <td>M29-31</td>\n",
       "    </tr>\n",
       "    <tr>\n",
       "      <th>4</th>\n",
       "      <td>245133531816851882</td>\n",
       "      <td>M</td>\n",
       "      <td>30</td>\n",
       "      <td>M29-31</td>\n",
       "    </tr>\n",
       "  </tbody>\n",
       "</table>\n",
       "</div>"
      ],
      "text/plain": [
       "             device_id user_gender  age age_group\n",
       "0 -8076087639492063270           M   35    M32-38\n",
       "1 -2897161552818060146           M   35    M32-38\n",
       "2 -8260683887967679142           M   35    M32-38\n",
       "3 -4938849341048082022           M   30    M29-31\n",
       "4   245133531816851882           M   30    M29-31"
      ]
     },
     "execution_count": 20,
     "metadata": {},
     "output_type": "execute_result"
    }
   ],
   "source": [
    "df.head()"
   ]
  },
  {
   "cell_type": "code",
   "execution_count": 21,
   "id": "683ee461",
   "metadata": {},
   "outputs": [],
   "source": [
    "#df.columns = ['Devices','user_gender', 'age', 'age_group']"
   ]
  },
  {
   "cell_type": "code",
   "execution_count": 22,
   "id": "4cdf8680",
   "metadata": {},
   "outputs": [
    {
     "data": {
      "text/html": [
       "<div>\n",
       "<style scoped>\n",
       "    .dataframe tbody tr th:only-of-type {\n",
       "        vertical-align: middle;\n",
       "    }\n",
       "\n",
       "    .dataframe tbody tr th {\n",
       "        vertical-align: top;\n",
       "    }\n",
       "\n",
       "    .dataframe thead th {\n",
       "        text-align: right;\n",
       "    }\n",
       "</style>\n",
       "<table border=\"1\" class=\"dataframe\">\n",
       "  <thead>\n",
       "    <tr style=\"text-align: right;\">\n",
       "      <th></th>\n",
       "      <th>device_id</th>\n",
       "      <th>user_gender</th>\n",
       "      <th>age</th>\n",
       "      <th>age_group</th>\n",
       "    </tr>\n",
       "  </thead>\n",
       "  <tbody>\n",
       "    <tr>\n",
       "      <th>0</th>\n",
       "      <td>-8076087639492063270</td>\n",
       "      <td>M</td>\n",
       "      <td>35</td>\n",
       "      <td>M32-38</td>\n",
       "    </tr>\n",
       "    <tr>\n",
       "      <th>1</th>\n",
       "      <td>-2897161552818060146</td>\n",
       "      <td>M</td>\n",
       "      <td>35</td>\n",
       "      <td>M32-38</td>\n",
       "    </tr>\n",
       "    <tr>\n",
       "      <th>2</th>\n",
       "      <td>-8260683887967679142</td>\n",
       "      <td>M</td>\n",
       "      <td>35</td>\n",
       "      <td>M32-38</td>\n",
       "    </tr>\n",
       "    <tr>\n",
       "      <th>3</th>\n",
       "      <td>-4938849341048082022</td>\n",
       "      <td>M</td>\n",
       "      <td>30</td>\n",
       "      <td>M29-31</td>\n",
       "    </tr>\n",
       "    <tr>\n",
       "      <th>4</th>\n",
       "      <td>245133531816851882</td>\n",
       "      <td>M</td>\n",
       "      <td>30</td>\n",
       "      <td>M29-31</td>\n",
       "    </tr>\n",
       "  </tbody>\n",
       "</table>\n",
       "</div>"
      ],
      "text/plain": [
       "             device_id user_gender  age age_group\n",
       "0 -8076087639492063270           M   35    M32-38\n",
       "1 -2897161552818060146           M   35    M32-38\n",
       "2 -8260683887967679142           M   35    M32-38\n",
       "3 -4938849341048082022           M   30    M29-31\n",
       "4   245133531816851882           M   30    M29-31"
      ]
     },
     "execution_count": 22,
     "metadata": {},
     "output_type": "execute_result"
    }
   ],
   "source": [
    "df.head()"
   ]
  },
  {
   "cell_type": "code",
   "execution_count": 23,
   "id": "01dc73ee",
   "metadata": {},
   "outputs": [],
   "source": [
    "df.to_csv('gender_age_train.csv', index = False)"
   ]
  },
  {
   "cell_type": "code",
   "execution_count": 24,
   "id": "fb3d4d71",
   "metadata": {},
   "outputs": [],
   "source": [
    "#phone_brand_device_model - device ids, brand, and models phone_brand: note that few brands are in Chinese\n",
    "db_cursor.execute('SELECT * FROM phone_brand_device_model')\n",
    "\n",
    "table_rows = db_cursor.fetchall()\n",
    "\n",
    "df = pd.DataFrame(table_rows,columns=['device_id', 'brand', 'phone_brand'])"
   ]
  },
  {
   "cell_type": "code",
   "execution_count": 25,
   "id": "0b97f6c5",
   "metadata": {},
   "outputs": [
    {
     "data": {
      "text/html": [
       "<div>\n",
       "<style scoped>\n",
       "    .dataframe tbody tr th:only-of-type {\n",
       "        vertical-align: middle;\n",
       "    }\n",
       "\n",
       "    .dataframe tbody tr th {\n",
       "        vertical-align: top;\n",
       "    }\n",
       "\n",
       "    .dataframe thead th {\n",
       "        text-align: right;\n",
       "    }\n",
       "</style>\n",
       "<table border=\"1\" class=\"dataframe\">\n",
       "  <thead>\n",
       "    <tr style=\"text-align: right;\">\n",
       "      <th></th>\n",
       "      <th>device_id</th>\n",
       "      <th>brand</th>\n",
       "      <th>phone_brand</th>\n",
       "    </tr>\n",
       "  </thead>\n",
       "  <tbody>\n",
       "    <tr>\n",
       "      <th>0</th>\n",
       "      <td>1877775838486905855</td>\n",
       "      <td>vivo</td>\n",
       "      <td>Y13</td>\n",
       "    </tr>\n",
       "    <tr>\n",
       "      <th>1</th>\n",
       "      <td>-3766087376657242966</td>\n",
       "      <td>小米</td>\n",
       "      <td>V183</td>\n",
       "    </tr>\n",
       "    <tr>\n",
       "      <th>2</th>\n",
       "      <td>-6238937574958215831</td>\n",
       "      <td>OPPO</td>\n",
       "      <td>R7s</td>\n",
       "    </tr>\n",
       "    <tr>\n",
       "      <th>3</th>\n",
       "      <td>8973197758510677470</td>\n",
       "      <td>三星</td>\n",
       "      <td>A368t</td>\n",
       "    </tr>\n",
       "    <tr>\n",
       "      <th>4</th>\n",
       "      <td>-2015528097870762664</td>\n",
       "      <td>小米</td>\n",
       "      <td>红米Note2</td>\n",
       "    </tr>\n",
       "  </tbody>\n",
       "</table>\n",
       "</div>"
      ],
      "text/plain": [
       "             device_id brand phone_brand\n",
       "0  1877775838486905855  vivo         Y13\n",
       "1 -3766087376657242966    小米        V183\n",
       "2 -6238937574958215831  OPPO         R7s\n",
       "3  8973197758510677470    三星       A368t\n",
       "4 -2015528097870762664    小米     红米Note2"
      ]
     },
     "execution_count": 25,
     "metadata": {},
     "output_type": "execute_result"
    }
   ],
   "source": [
    "df.head()"
   ]
  },
  {
   "cell_type": "code",
   "execution_count": 26,
   "id": "1d03cde3",
   "metadata": {},
   "outputs": [],
   "source": [
    "#df.columns = ['device_ids', 'brand', 'phone_brand']"
   ]
  },
  {
   "cell_type": "code",
   "execution_count": 27,
   "id": "62338a0b",
   "metadata": {},
   "outputs": [],
   "source": [
    "df.to_csv('phone_brand_device_model.csv', index = False)"
   ]
  },
  {
   "cell_type": "code",
   "execution_count": 28,
   "id": "fcb87a13",
   "metadata": {},
   "outputs": [
    {
     "name": "stdout",
     "output_type": "stream",
     "text": [
      "MySQL connection is closed\n"
     ]
    }
   ],
   "source": [
    "#closing database connection.\n",
    "if(db_connection):\n",
    "    db_cursor.close()\n",
    "    db_connection.close()\n",
    "    print(\"MySQL connection is closed\")"
   ]
  },
  {
   "cell_type": "markdown",
   "id": "1622c1c7",
   "metadata": {},
   "source": [
    "### Translate Brands"
   ]
  },
  {
   "cell_type": "code",
   "execution_count": null,
   "id": "dc229a3b",
   "metadata": {},
   "outputs": [],
   "source": [
    "!pip install googletrans==3.1.0a0"
   ]
  },
  {
   "cell_type": "code",
   "execution_count": null,
   "id": "b028fdd3",
   "metadata": {},
   "outputs": [],
   "source": []
  },
  {
   "cell_type": "code",
   "execution_count": null,
   "id": "b81b5b45",
   "metadata": {},
   "outputs": [],
   "source": []
  },
  {
   "cell_type": "markdown",
   "id": "4baad1c9",
   "metadata": {},
   "source": [
    "# INSAID Telecom Network "
   ]
  },
  {
   "cell_type": "markdown",
   "id": "b8dc507f",
   "metadata": {},
   "source": [
    "events_data - when a user uses mobile on INSAID Telecom network, the event gets logged in this data.\n",
    "Each event has an event id, location (lat/long), and the event corresponds to frequency of mobile usage.\n",
    "timestamp: when the user is using the mobile."
   ]
  },
  {
   "cell_type": "raw",
   "id": "48ff5a61",
   "metadata": {},
   "source": [
    "Q. How many times the device is being used\n",
    "Q. Which state clocks the most usage\n",
    "Q. Which city clocks the most\n",
    "Q. Demographics of users in the state"
   ]
  },
  {
   "cell_type": "markdown",
   "id": "127a20ae",
   "metadata": {},
   "source": [
    "# Events Dataset"
   ]
  },
  {
   "cell_type": "code",
   "execution_count": null,
   "id": "82048a89",
   "metadata": {},
   "outputs": [],
   "source": [
    "events_df = pd.read_csv(\"events_data.csv\")"
   ]
  },
  {
   "cell_type": "code",
   "execution_count": null,
   "id": "6f015ffc",
   "metadata": {},
   "outputs": [],
   "source": [
    "events_df.head()"
   ]
  },
  {
   "cell_type": "code",
   "execution_count": null,
   "id": "dcfaf7c7",
   "metadata": {},
   "outputs": [],
   "source": [
    "events_df.info()"
   ]
  },
  {
   "cell_type": "code",
   "execution_count": null,
   "id": "cbc726d9",
   "metadata": {},
   "outputs": [],
   "source": [
    "events_df.describe(include='all')"
   ]
  },
  {
   "cell_type": "code",
   "execution_count": null,
   "id": "69b3cfed",
   "metadata": {},
   "outputs": [],
   "source": [
    "events_df.shape"
   ]
  },
  {
   "cell_type": "code",
   "execution_count": null,
   "id": "f63e3171",
   "metadata": {},
   "outputs": [],
   "source": [
    "events_missing_data_df = []\n",
    "events_missing_data_df = pd.DataFrame(events_df.isnull().sum())\n",
    "events_missing_data_df.columns = ['missing_values']\n",
    "events_missing_data_df['missing%'] = events_missing_data_df['missing_values']/events_df.shape[0]\n",
    "events_missing_data_df"
   ]
  },
  {
   "cell_type": "code",
   "execution_count": null,
   "id": "758b83de",
   "metadata": {},
   "outputs": [],
   "source": [
    "print(\"Timestamp range start: \",events_df.timestamp.min())"
   ]
  },
  {
   "cell_type": "code",
   "execution_count": null,
   "id": "64f58dc0",
   "metadata": {},
   "outputs": [],
   "source": [
    "print(\"Timestamp range end: \",events_df.timestamp.max())"
   ]
  },
  {
   "cell_type": "code",
   "execution_count": null,
   "id": "7db1ed75",
   "metadata": {},
   "outputs": [],
   "source": [
    "state_usage_df = pd.DataFrame(events_df.value_counts(['state','city','longitude','latitude']))\n",
    "state_usage_df.columns = ['state_wise_usage']\n",
    "state_usage_df.reset_index(inplace=True)\n",
    "state_usage_df.head()"
   ]
  },
  {
   "cell_type": "code",
   "execution_count": null,
   "id": "90e11c31",
   "metadata": {
    "scrolled": false
   },
   "outputs": [],
   "source": [
    "state_usage_filtered_df = pd.DataFrame(state_usage_df[state_usage_df.state.isin(['MadhyaPradesh', 'Chhattisgarh', 'Uttaranchal', 'JammuandKashmir','Goa', 'Nagaland'])])\n",
    "state_usage_filtered_df.sort_values(by='state', ascending=True, inplace=True)\n",
    "state_usage_filtered_df.head()"
   ]
  },
  {
   "cell_type": "code",
   "execution_count": null,
   "id": "f2dc73c9",
   "metadata": {},
   "outputs": [],
   "source": [
    "!pip3 install geoplotlib"
   ]
  },
  {
   "cell_type": "code",
   "execution_count": null,
   "id": "096009d3",
   "metadata": {},
   "outputs": [],
   "source": [
    "!pip3 install Pyglet"
   ]
  },
  {
   "cell_type": "code",
   "execution_count": null,
   "id": "eb423e31",
   "metadata": {
    "scrolled": true
   },
   "outputs": [],
   "source": [
    "import geoplotlib\n",
    "from geoplotlib.utils import read_csv\n",
    "\n",
    "#data = read_csv(\"C:\\\\Users\\\\Omotayo\\\\Desktop\\\\nigeria_cities.csv\")  #replace path with your file path\n",
    "geoplotlib.dot(state_usage_filtered_df) #,point_size=3)\n",
    "geoplotlib.show()\n"
   ]
  },
  {
   "cell_type": "code",
   "execution_count": null,
   "id": "5473ee77",
   "metadata": {
    "scrolled": false
   },
   "outputs": [],
   "source": [
    "events_df.groupby(['state','city'])['event_id'].size()"
   ]
  }
 ],
 "metadata": {
  "kernelspec": {
   "display_name": "Python 3",
   "language": "python",
   "name": "python3"
  },
  "language_info": {
   "codemirror_mode": {
    "name": "ipython",
    "version": 3
   },
   "file_extension": ".py",
   "mimetype": "text/x-python",
   "name": "python",
   "nbconvert_exporter": "python",
   "pygments_lexer": "ipython3",
   "version": "3.8.8"
  }
 },
 "nbformat": 4,
 "nbformat_minor": 5
}
