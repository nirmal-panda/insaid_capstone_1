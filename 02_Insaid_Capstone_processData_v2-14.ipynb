{
 "cells": [
  {
   "cell_type": "markdown",
   "id": "556476ca",
   "metadata": {},
   "source": [
    "# Section 1"
   ]
  },
  {
   "cell_type": "code",
   "execution_count": null,
   "id": "b81b5b45",
   "metadata": {},
   "outputs": [],
   "source": []
  },
  {
   "cell_type": "code",
   "execution_count": null,
   "id": "dd986ad4",
   "metadata": {},
   "outputs": [],
   "source": [
    "import pandas as pd\n",
    "import numpy as np\n",
    "import seaborn as sns\n",
    "import matplotlib.pyplot as plt\n",
    "%matplotlib inline\n",
    "\n",
    "from IPython.display import display"
   ]
  },
  {
   "cell_type": "code",
   "execution_count": null,
   "id": "d0794e8a",
   "metadata": {},
   "outputs": [],
   "source": [
    "pd.set_option('display.float_format', '{:.2f}'.format)\n",
    "pd.set_option('display.max_rows', None)\n",
    "pd.set_option('display.max_columns', None)"
   ]
  },
  {
   "cell_type": "markdown",
   "id": "af43b18a",
   "metadata": {},
   "source": [
    "# INSAID Telecom Network "
   ]
  },
  {
   "cell_type": "markdown",
   "id": "b8dc507f",
   "metadata": {},
   "source": [
    "events_data - when a user uses mobile on INSAID Telecom network, the event gets logged in this data.\n",
    "Each event has an event id, location (lat/long), and the event corresponds to frequency of mobile usage.\n",
    "timestamp: when the user is using the mobile."
   ]
  },
  {
   "cell_type": "markdown",
   "id": "84c0c16f",
   "metadata": {},
   "source": [
    "# Events Dataset"
   ]
  },
  {
   "cell_type": "code",
   "execution_count": null,
   "id": "82048a89",
   "metadata": {},
   "outputs": [],
   "source": [
    "events_df = pd.read_csv(\"events_data.csv\")"
   ]
  },
  {
   "cell_type": "code",
   "execution_count": null,
   "id": "6f015ffc",
   "metadata": {},
   "outputs": [],
   "source": [
    "#events_df.head()"
   ]
  },
  {
   "cell_type": "code",
   "execution_count": null,
   "id": "dcfaf7c7",
   "metadata": {},
   "outputs": [],
   "source": [
    "events_df.info(show_counts=True)"
   ]
  },
  {
   "cell_type": "code",
   "execution_count": null,
   "id": "cbc726d9",
   "metadata": {},
   "outputs": [],
   "source": [
    "events_df.describe(include='all')"
   ]
  },
  {
   "cell_type": "code",
   "execution_count": null,
   "id": "69b3cfed",
   "metadata": {},
   "outputs": [],
   "source": [
    "events_df.shape"
   ]
  },
  {
   "cell_type": "code",
   "execution_count": null,
   "id": "ff0ce370",
   "metadata": {},
   "outputs": [],
   "source": [
    "events_df.info(verbose = True, show_counts = True)"
   ]
  },
  {
   "cell_type": "code",
   "execution_count": null,
   "id": "4269ecf6",
   "metadata": {},
   "outputs": [],
   "source": [
    "events_df.columns"
   ]
  },
  {
   "cell_type": "code",
   "execution_count": null,
   "id": "f63e3171",
   "metadata": {},
   "outputs": [],
   "source": [
    "def missing_vals(df):\n",
    "    missing_data_df = []\n",
    "    missing_data_df = pd.DataFrame(df.isnull().sum())\n",
    "    missing_data_df.columns = ['missing_values']\n",
    "    missing_data_df['missing%'] = missing_data_df['missing_values']/df.shape[0]\n",
    "    return missing_data_df"
   ]
  },
  {
   "cell_type": "code",
   "execution_count": null,
   "id": "4b74cb57",
   "metadata": {},
   "outputs": [],
   "source": [
    "events_missing_data_df = missing_vals(events_df)\n",
    "events_missing_data_df"
   ]
  },
  {
   "cell_type": "code",
   "execution_count": null,
   "id": "2b42e382",
   "metadata": {},
   "outputs": [],
   "source": [
    "print(\"Timestamp range start: \",events_df.timestamp.min())\n",
    "print(\"Timestamp range end: \",events_df.timestamp.max())"
   ]
  },
  {
   "cell_type": "markdown",
   "id": "6cedf0bd",
   "metadata": {},
   "source": [
    "#### Convert Timestamp object type "
   ]
  },
  {
   "cell_type": "code",
   "execution_count": null,
   "id": "7078c893",
   "metadata": {},
   "outputs": [],
   "source": [
    "\n",
    "events_df['timestamp'] = pd.to_datetime(events_df['timestamp'])\n",
    "events_df.info(show_counts=True)"
   ]
  },
  {
   "cell_type": "markdown",
   "id": "c565bf1b",
   "metadata": {},
   "source": [
    "#### Missing values treatment\n",
    "- State"
   ]
  },
  {
   "cell_type": "code",
   "execution_count": null,
   "id": "fe8c5be5",
   "metadata": {},
   "outputs": [],
   "source": [
    "#extract uniques city and state pair\n",
    "\n",
    "df_city_state_long_lat = events_df[['city','state', 'latitude','longitude']]\n",
    "df_city_state_long_lat.set_index('city', inplace=True)\n",
    "city_state_long_lat_dict = df_city_state_long_lat.to_dict()\n",
    "#city_state_dict['state'].to_json('city_state_dict')"
   ]
  },
  {
   "cell_type": "code",
   "execution_count": null,
   "id": "6b6f60e2",
   "metadata": {},
   "outputs": [],
   "source": [
    "import json\n",
    "a_file = open(\"city_state_long_lat_dict.json\", \"w\")\n",
    "json.dump(city_state_long_lat_dict, a_file)\n",
    "a_file.close()"
   ]
  },
  {
   "cell_type": "code",
   "execution_count": null,
   "id": "a1a88387",
   "metadata": {},
   "outputs": [],
   "source": [
    "main_dict = city_state_long_lat_dict['state']\n",
    "events_df.state = events_df.state.fillna(events_df.city.map(main_dict))"
   ]
  },
  {
   "cell_type": "code",
   "execution_count": null,
   "id": "6713f7a2",
   "metadata": {},
   "outputs": [],
   "source": [
    "events_df.state.unique()"
   ]
  },
  {
   "cell_type": "markdown",
   "id": "9c07fd3d",
   "metadata": {},
   "source": [
    "#### Missing values treatment\n",
    "- longitude & latitude"
   ]
  },
  {
   "cell_type": "code",
   "execution_count": null,
   "id": "8a8cbbff",
   "metadata": {},
   "outputs": [],
   "source": [
    "main_dict"
   ]
  },
  {
   "cell_type": "code",
   "execution_count": null,
   "id": "0e4caa5c",
   "metadata": {},
   "outputs": [],
   "source": [
    "#null_state_id['state'].map(city_state_dict)#.fillna(null_state_id['state'])\n",
    "#null_state_id\n",
    "main_dict_long = city_state_long_lat_dict['longitude']\n",
    "main_dict_lat = city_state_long_lat_dict['latitude']\n",
    "\n",
    "events_df.longitude = events_df.longitude.fillna(events_df.city.map(main_dict_long))\n",
    "events_df.latitude = events_df.latitude.fillna(events_df.city.map(main_dict_lat))\n",
    "\n",
    "#null_long_id\n"
   ]
  },
  {
   "cell_type": "code",
   "execution_count": null,
   "id": "7a184b2f",
   "metadata": {
    "scrolled": true
   },
   "outputs": [],
   "source": [
    "events_df.info(show_counts=True)"
   ]
  },
  {
   "cell_type": "markdown",
   "id": "8eb86aa6",
   "metadata": {},
   "source": [
    "#### Filter events data to focus states "
   ]
  },
  {
   "cell_type": "code",
   "execution_count": null,
   "id": "0deeada3",
   "metadata": {},
   "outputs": [],
   "source": [
    "events_filtered_df = pd.DataFrame(events_df[events_df.state.isin(['MadhyaPradesh', 'Chhattisgarh', 'Uttaranchal', 'JammuandKashmir','Goa', 'Nagaland'])])\n",
    "events_filtered_df.sort_values(by='state', ascending=True, inplace=True)\n",
    "#events_filtered_df['device_id'] = events_filtered_df['device_id'].astype(np.int64)\n",
    "events_filtered_df.shape\n"
   ]
  },
  {
   "cell_type": "code",
   "execution_count": null,
   "id": "9dc6355e",
   "metadata": {},
   "outputs": [],
   "source": [
    "events_filtered_df.to_csv(\"events_filtered_df.csv\")"
   ]
  },
  {
   "cell_type": "code",
   "execution_count": null,
   "id": "734fb1ca",
   "metadata": {},
   "outputs": [],
   "source": [
    "events_filtered_df.info(show_counts=True)"
   ]
  },
  {
   "cell_type": "code",
   "execution_count": null,
   "id": "56ed36c4",
   "metadata": {},
   "outputs": [],
   "source": [
    "missing_device_data = events_filtered_df[events_filtered_df.device_id.isna()]\n",
    "missing_device_data.city.unique()"
   ]
  },
  {
   "cell_type": "markdown",
   "id": "ab7effe6",
   "metadata": {},
   "source": [
    "**Device id for Indore users is missing**"
   ]
  },
  {
   "cell_type": "markdown",
   "id": "e5c4eba3",
   "metadata": {},
   "source": [
    "# Section 2"
   ]
  },
  {
   "cell_type": "markdown",
   "id": "3a1a2c01",
   "metadata": {},
   "source": [
    "### User Demographics"
   ]
  },
  {
   "cell_type": "code",
   "execution_count": null,
   "id": "e2d28073",
   "metadata": {},
   "outputs": [],
   "source": [
    "gender_age_train_df = pd.read_csv(\"gender_age_train.csv\",index_col=False)\n",
    "phone_brand_device_model_df = pd.read_csv(\"phone_brand_device_model.csv\",index_col=False)\n"
   ]
  },
  {
   "cell_type": "code",
   "execution_count": null,
   "id": "d8e80ec0",
   "metadata": {},
   "outputs": [],
   "source": [
    "phone_brand_device_model_df.columns"
   ]
  },
  {
   "cell_type": "code",
   "execution_count": null,
   "id": "200dacb7",
   "metadata": {},
   "outputs": [],
   "source": [
    "gender_age_train_df.columns"
   ]
  },
  {
   "cell_type": "code",
   "execution_count": null,
   "id": "4e133bab",
   "metadata": {},
   "outputs": [],
   "source": [
    "gender_age_train_df.shape"
   ]
  },
  {
   "cell_type": "code",
   "execution_count": null,
   "id": "6e283b34",
   "metadata": {},
   "outputs": [],
   "source": [
    "#gender_age_train_df.head()"
   ]
  },
  {
   "cell_type": "code",
   "execution_count": null,
   "id": "27e6ef2f",
   "metadata": {},
   "outputs": [],
   "source": [
    "gender_age_train_df.info()"
   ]
  },
  {
   "cell_type": "code",
   "execution_count": null,
   "id": "c9f4af59",
   "metadata": {},
   "outputs": [],
   "source": [
    "gender_age_missing_data_df = missing_vals(gender_age_train_df)\n",
    "gender_age_missing_data_df"
   ]
  },
  {
   "cell_type": "code",
   "execution_count": null,
   "id": "c51c968a",
   "metadata": {},
   "outputs": [],
   "source": [
    "phone_brand_device_model_df.shape"
   ]
  },
  {
   "cell_type": "code",
   "execution_count": null,
   "id": "f16710fc",
   "metadata": {},
   "outputs": [],
   "source": [
    "phone_brand_device_model_df.info()"
   ]
  },
  {
   "cell_type": "code",
   "execution_count": null,
   "id": "ad5e7aa4",
   "metadata": {},
   "outputs": [],
   "source": [
    "#phone_brand_device_model_df.head()"
   ]
  },
  {
   "cell_type": "code",
   "execution_count": null,
   "id": "4e0a8742",
   "metadata": {},
   "outputs": [],
   "source": [
    "phone_brand_device_model_missing_data_df = missing_vals(phone_brand_device_model_df)\n",
    "phone_brand_device_model_missing_data_df"
   ]
  },
  {
   "cell_type": "code",
   "execution_count": null,
   "id": "3f0e1e8a",
   "metadata": {},
   "outputs": [],
   "source": [
    "brandmap={\n",
    "'华为':'Huawei',\n",
    "'小米':'Xiaomi',\n",
    "'三星':'Samsung',\n",
    "'vivo':'vivo',\n",
    "'OPPO':'OPPO',\n",
    "'魅族':'Meizu',\n",
    "'酷派':'Coolpad',\n",
    "'乐视':'LeEco',\n",
    "'联想':'Lenovo',\n",
    "'HTC':'HTC',\n",
    "'小米': 'Mi',\n",
    "'联想 ': 'Lenovo',\n",
    "'奇酷': 'Chikool',\n",
    "'斐讯':'PHICOMM',\n",
    "'中国移动':'China Mobile',\n",
    "'天语':'Tianyu',\n",
    "'至尊宝':'Joker',\n",
    "'欧博信':'OBXIN',\n",
    "'优米' :'Quality rice',\n",
    "'努比亚'  :'Nubia',\n",
    "'惠普'  :'HP',\n",
    "'尼比鲁'  :'Nibiru',\n",
    "'美图'  :'Meitu',\n",
    "'乡米'  :'Country rice',\n",
    "'摩托罗拉'  :'Motorola',\n",
    "'梦米'  :'Dream Rice',\n",
    "'锤子'  :'Hammer',\n",
    "'富可视' :'InFocus',\n",
    "'LeEco' : 'LeEco',\n",
    "'海信' : 'Hisense',\n",
    "'百立丰' : 'Bai Li Feng',\n",
    "'一加'  : 'OnePlus',\n",
    "'语信' :'Yuxin',\n",
    "'海尔'  :'Haier',\n",
    "'酷比'  :'Coolby',\n",
    "'纽曼'  :'Newman',\n",
    "'波导'  :'Waveguide',\n",
    "'朵唯'  :'Duo Wei',\n",
    "'聆韵'  :'Ling rhyme',\n",
    "'酷珀'  :'Cupper',\n",
    "'爱派尔'  :'Appel',\n",
    "'青葱'  : 'Green onion',\n",
    "'果米'  :'Fruit rice',\n",
    "'华硕'  :'ASUS',\n",
    "'昂达'  :'Onda',\n",
    "'艾优尼'  :'Ayuni',\n",
    "'康佳'  :'Konka',\n",
    "'优购' :'Yougo',\n",
    "'邦华'  : 'Banghua',\n",
    "'赛博宇华' :'Cyber ​​Yuhua',\n",
    "'黑米' : 'black rice',\n",
    "'先锋' : 'pioneer',\n",
    "'E派' : 'E School',\n",
    "'神舟'  : 'Shenzhou',\n",
    "'诺基亚' :'Nokia',\n",
    "'普耐尔' : 'Pnair',\n",
    "'糖葫芦' : 'Candied haws',\n",
    "'亿通' : 'Yitong',\n",
    "'欧新' : 'Ou Xin',\n",
    "'米奇'  : 'Mickey',\n",
    "'酷比魔方' :'Coolby Rubiks Cube',\n",
    "'蓝魔'  : 'Blue demon' ,\n",
    "'小杨树'  :'Little Poplar',\n",
    "'贝尔丰'  :'Belfon',\n",
    "'糯米'  :'Glutinous rice',\n",
    "'米歌' :'Mi Ge',\n",
    "'E人E本' : 'E people, E books',\n",
    "'西米'  : 'Sago',\n",
    "'大Q' :'Big Q',\n",
    "'台电'  : 'Taipower',\n",
    "'飞利浦' :'Philips',\n",
    "'唯米'  : 'Only rice',\n",
    "'大显' :'Daxian',\n",
    "'长虹' : 'Changhong',\n",
    "'维图' : 'Vitu',\n",
    "'青橙'  : 'Green Orange',\n",
    "'本为'  :'Originally',\n",
    "'虾米' :'Shrimp',\n",
    "'夏新' :'Amoi',\n",
    "'帷幄' : 'Weather',\n",
    "'百加' : 'Baca',\n",
    "'SUGAR' : 'SUGAR',\n",
    "'欧奇'  : 'Oqi',\n",
    "'世纪星' :'Century Star',\n",
    "'智镁'  : 'Zhimei',\n",
    "'欧比'  :'Obi',\n",
    "'基伍'  :'Kivu',\n",
    "'飞秒'  :'Femtosecond',\n",
    "'德赛' :'Desai',\n",
    "'易派' : 'Yipai',\n",
    "'谷歌'  : 'Google', \n",
    "'金星数码' :'Venus Digital',\n",
    "'广信' : 'Widely believed',\n",
    "'诺亚信' : 'Noah letter',\n",
    "'MIL'  : 'MIL',\n",
    "'白米'  :'White rice',\n",
    "'大可乐'  :'Big coke',\n",
    "'宝捷讯' :'Bao Ji Xun',\n",
    "'优语'  : 'Youyu',\n",
    "'首云'  :'First Cloud',\n",
    "'瑞米'  :'Remy',\n",
    "'瑞高'  :'Rigao',\n",
    "'沃普丰' :'Wopfun',\n",
    "'摩乐'  : 'Mole',\n",
    "'鲜米'  :'Fresh rice',\n",
    "'凯利通' :'Kelly Pass',\n",
    "'唯比' : 'VIP',\n",
    "'欧沃' : 'Overo',\n",
    "'丰米' : 'Fonmi',\n",
    "'恒宇丰'  : 'Hengyufeng',\n",
    "'奥克斯'  :'Ox',\n",
    "'西门子' :'Siemens',\n",
    "'欧乐迪' : 'Oledi'\n",
    "}\n"
   ]
  },
  {
   "cell_type": "code",
   "execution_count": null,
   "id": "82b8b698",
   "metadata": {},
   "outputs": [],
   "source": [
    "phone_model_map = {'红米note':'Redmi note','荣耀6':'Glory 6','荣耀畅玩4X':'Honor Play 4X','荣耀6 Plus':'Honor 6 Plus',\n",
    "         '荣耀3X畅玩版':'Honor 3X Play Edition','魅蓝Note 2':'Charm Blue Note 2','荣耀3C':'Honor 3C',\n",
    "         '荣耀畅玩4C':'Honor Play 4C','红米1S':'Redmi 1S','红米':'Hong Mi','荣耀7':'Glory 7','红米Note2':'Redmi Note2',\n",
    "         '荣耀畅玩5X':'Honor Play 5X','魅蓝NOTE':'Charm Blue NOTE','超级手机1s':'Super phone 1s','红米2':'Redmi 2',\n",
    "         '小米note':'Xiaomi note','小米4C':'Mi 4C','红米Note3':'Redmi Note3','红米note增强版':'Redmi Note Enhanced Edition',\n",
    "         '超级手机1':'Super phone 1','红米2A':'Redmi 2A','大神Note3':'Okami Note3','大神F1':'Okami F1','魅蓝2':'Charm Blue 2',\n",
    "         '畅享5':'Enjoy 5','小星星':'little stars','note顶配版':'note top version','超级手机1 Pro':'Super Phone 1 Pro',\n",
    "          '荣耀7i':'Honor 7i','荣耀畅玩4':'Honor Play 4','ivvi 小骨Pro':'ivvi small bone Pro','荣耀3X':'Honor 3X',\n",
    "          '畅享5S':'Enjoy 5S','荣耀畅玩5':'Honor Play 5','荣耀3C畅玩版':'Honor 3C Play Edition','大神F2':'Ogami F2',\n",
    "          '2016版 Galaxy A7':'2016 version of Galaxy A7','乐檬K3':'Lemon K3','荣耀4A':'Honor 4A','坚果手机':'Nut Mobile',\n",
    "          '联想黄金斗士S8':'Lenovo Gold Fighter S8','魅蓝':'Charm Blue','锋尚Pro':'Fengshang Pro',\n",
    "         '超级手机Max':'Super phone Max','魅蓝metal':'Charm blue metal','星星1号':'Star 1','麦芒3':'Maimang 3',\n",
    "          '黄金斗士A8':'Golden Fighter A8','乐檬K3 Note':'Le Meng K3 Note','荣耀X2':'Honor X2',\n",
    "         '大神F2全高清版':'Great God F2 Full HD Version','麦芒4':'Maimang 4','大神F1Plus':'Okami F1 Plus',\n",
    "         '荣耀畅玩4C运动版':'Honor Play 4C Sports Edition','大神Note':'Okami Note','大神X7':'Ogami X7',\n",
    "         '荣耀6 plus':'Honor 6 plus','青春版':'Youth Edition','纽扣':'Buttons','红辣椒':'Red chili','红牛V5':'Red Bull V5',\n",
    "         '红辣椒Note':'Red Pepper Note','大观4':'Grand View 4','天鉴W900':'Tianjian W900','红米3':'Redmi 3',\n",
    "         '锋尚':'Feng Shang','么么哒3N':'Moda 3N','青漾3':'Qingyang 3','大神1s':'Okami 1s','旗舰版':'Ultimate Edition',\n",
    "        '黄金斗士Note8':'Golden Fighter Note8','小辣椒 6':'Chili 6','Mate 7 青春版':'Mate 7 Youth Edition',\n",
    "         '么么哒':'muah','荣耀畅玩平板T1':'Honor Play Tablet T1','锋尚2':'Feng Shang 2','小鲜3':'Xiaoxian 3',\n",
    "        'metal 标准版':'metal standard edition','三星big foot':'Samsung big foot','荣耀平板T1-823L':'Honor Tablet T1-823L',\n",
    "        '春雷HD':'Chunlei HD','红辣椒Note3':'Red Pepper Note3','My 布拉格':'My Prague','锋尚Max':'Fengshang Max',\n",
    "        '黄金斗士S8畅玩版':'Golden Fighter S8 Play Edition','麦芒3S':'Maimang 3S','荣耀+':'Glory+','乐玩':'Fun',\n",
    "        '魔镜 X5':'Magic Mirror X5','Xperia Z1 炫彩版':'Xperia Z1 Colorful Edition'}\n"
   ]
  },
  {
   "cell_type": "code",
   "execution_count": null,
   "id": "cf0c69d2",
   "metadata": {},
   "outputs": [],
   "source": [
    "len(brandmap)"
   ]
  },
  {
   "cell_type": "code",
   "execution_count": null,
   "id": "c26bb025",
   "metadata": {},
   "outputs": [],
   "source": [
    "len(phone_model_map)"
   ]
  },
  {
   "cell_type": "code",
   "execution_count": null,
   "id": "234c3095",
   "metadata": {},
   "outputs": [],
   "source": [
    "display(\"Unique Brands: \",len(phone_brand_device_model_df.brand.unique()))\n",
    "display(\"Unique phone brands: \",len(phone_brand_device_model_df.phone_brand.unique()))"
   ]
  },
  {
   "cell_type": "markdown",
   "id": "a6b7bf5f",
   "metadata": {},
   "source": [
    "**translation map has missing values**"
   ]
  },
  {
   "cell_type": "code",
   "execution_count": null,
   "id": "580165ca",
   "metadata": {},
   "outputs": [],
   "source": [
    "\n",
    "phone_brand_device_model_df['brand_eng'] = phone_brand_device_model_df['brand'].replace(brandmap) #, inplace=True)\n",
    "phone_brand_device_model_df['phone_brand_eng'] = phone_brand_device_model_df['phone_brand'].replace(phone_model_map) #, inplace=True)\n",
    "phone_brand_device_model_df.to_csv(\"phone_brand_device_model_translated.csv\")"
   ]
  },
  {
   "cell_type": "markdown",
   "id": "b3c417a7",
   "metadata": {},
   "source": [
    "#### FInd the Device ids missing in events; gender and phone datasets "
   ]
  },
  {
   "cell_type": "code",
   "execution_count": null,
   "id": "a33973a1",
   "metadata": {},
   "outputs": [],
   "source": [
    "inGender = gender_age_train_df.assign(InGender=gender_age_train_df.device_id.isin(events_df.device_id).astype(int))\n",
    "#gender_age_train_df = gender_age_train_df[gender_age_train_df.inGender==0]\n",
    "inGender"
   ]
  },
  {
   "cell_type": "code",
   "execution_count": null,
   "id": "eff0282f",
   "metadata": {},
   "outputs": [],
   "source": [
    "gender_age_train_df.columns"
   ]
  },
  {
   "cell_type": "code",
   "execution_count": null,
   "id": "5cee45a7",
   "metadata": {},
   "outputs": [],
   "source": [
    "inPhone = phone_brand_device_model_df.assign(InPhone=phone_brand_device_model_df.device_id.isin(events_df.device_id).astype(int))\n",
    "#device_id_phone_model = phone_brand_device_model_df[phone_brand_device_model_df.inPhone==0]\n",
    "inPhone"
   ]
  },
  {
   "cell_type": "code",
   "execution_count": null,
   "id": "2e8f3e02",
   "metadata": {},
   "outputs": [],
   "source": []
  },
  {
   "cell_type": "code",
   "execution_count": null,
   "id": "c7662001",
   "metadata": {},
   "outputs": [],
   "source": []
  },
  {
   "cell_type": "markdown",
   "id": "069cfd39",
   "metadata": {},
   "source": [
    "#### Group By Gender, Age Group"
   ]
  },
  {
   "cell_type": "code",
   "execution_count": null,
   "id": "de2cddda",
   "metadata": {},
   "outputs": [],
   "source": [
    "age_group_df = pd.DataFrame(gender_age_train_df.groupby(['age_group','age'])['device_id'].size())\n",
    "age_group_df.columns = ['no_of_devices_by_age']\n",
    "age_group_df.reset_index(inplace=True)\n",
    "age_group_df\n",
    "\n"
   ]
  },
  {
   "cell_type": "code",
   "execution_count": null,
   "id": "13520373",
   "metadata": {},
   "outputs": [],
   "source": [
    "age_group_df = pd.DataFrame(gender_age_train_df.groupby(['age_group','age'])['device_id'].size())\n",
    "age_group_df.columns = ['no_of_devices_by_age']\n",
    "age_group_df.reset_index(inplace=True)\n",
    "age_group_df"
   ]
  },
  {
   "cell_type": "code",
   "execution_count": null,
   "id": "cf0dd050",
   "metadata": {},
   "outputs": [],
   "source": [
    "device_age_group_df = pd.DataFrame(gender_age_train_df.groupby(['age_group'])['device_id'].size())\n",
    "device_age_group_df.columns = ['no_of_devices']\n",
    "device_age_group_df.reset_index(inplace=True)\n",
    "device_age_group_df"
   ]
  },
  {
   "cell_type": "code",
   "execution_count": null,
   "id": "8e27fb83",
   "metadata": {},
   "outputs": [],
   "source": []
  },
  {
   "cell_type": "code",
   "execution_count": null,
   "id": "452444a6",
   "metadata": {},
   "outputs": [],
   "source": [
    "inGender = gender_age_train_df.assign(InGender=gender_age_train_df.device_id.isin(events_df.device_id).astype(int))\n",
    "#gender_age_train_df = gender_age_train_df[gender_age_train_df.inGender==0]\n",
    "inGender"
   ]
  },
  {
   "cell_type": "code",
   "execution_count": null,
   "id": "3b7d2d68",
   "metadata": {},
   "outputs": [],
   "source": []
  },
  {
   "cell_type": "markdown",
   "id": "9a75a993",
   "metadata": {},
   "source": [
    "#### Merge gender and phone "
   ]
  },
  {
   "cell_type": "code",
   "execution_count": null,
   "id": "22ea5764",
   "metadata": {},
   "outputs": [],
   "source": [
    "display(\"gender: \", gender_age_train_df.shape, \"phone: \", phone_brand_device_model_df.shape )"
   ]
  },
  {
   "cell_type": "code",
   "execution_count": null,
   "id": "28f119a5",
   "metadata": {},
   "outputs": [],
   "source": [
    "gender_phone_df = pd.merge(gender_age_train_df,phone_brand_device_model_df, on='device_id', how='left')\n",
    "gender_phone_df.shape"
   ]
  },
  {
   "cell_type": "code",
   "execution_count": null,
   "id": "f75886c2",
   "metadata": {},
   "outputs": [],
   "source": [
    "gender_phone_df.info(show_counts=True)"
   ]
  },
  {
   "cell_type": "code",
   "execution_count": null,
   "id": "8cca46e8",
   "metadata": {},
   "outputs": [],
   "source": [
    "gender_phone_df[gender_phone_df.brand.isna()]"
   ]
  },
  {
   "cell_type": "code",
   "execution_count": null,
   "id": "27fda45a",
   "metadata": {},
   "outputs": [],
   "source": [
    "gender_phone_df.device_id.value_counts()[:10]"
   ]
  },
  {
   "cell_type": "markdown",
   "id": "1086e686",
   "metadata": {},
   "source": [
    "**Device_id is unique to each person**"
   ]
  },
  {
   "cell_type": "code",
   "execution_count": null,
   "id": "9194bad8",
   "metadata": {},
   "outputs": [],
   "source": [
    "gender_phone_df.to_csv(\"merged_gender_phone_df.csv\")"
   ]
  },
  {
   "cell_type": "markdown",
   "id": "bc1c6e98",
   "metadata": {},
   "source": [
    "#### Evaluate Latitude & Longitude data"
   ]
  },
  {
   "cell_type": "code",
   "execution_count": null,
   "id": "99199f9c",
   "metadata": {},
   "outputs": [],
   "source": [
    "city_lat_long_df = pd.read_json(\"city_state_long_lat_dict.json\")\n",
    "city_lat_long_df.reset_index(inplace=True)\n",
    "city_lat_long_df.rename(columns={'index': 'city'}, inplace=True)\n",
    "city_lat_long_df.sort_values(by='city', ascending=True,inplace=True)\n",
    "city_lat_long_df"
   ]
  },
  {
   "cell_type": "code",
   "execution_count": null,
   "id": "1f8838d5",
   "metadata": {},
   "outputs": [],
   "source": [
    "city_lat_long_df.describe()"
   ]
  },
  {
   "cell_type": "markdown",
   "id": "74d0da47",
   "metadata": {},
   "source": [
    "**India: latitudes 8°4'N and 37°6'N and longitudes 68°7'E and 97°25'E**\n",
    "\n",
    "The events dataset has latitudes 8.22 and 34.33 and longitudes 69.68 and 95.42\n",
    "\n",
    "**Inference**: latitude of less than 8.4 is an outlier"
   ]
  },
  {
   "cell_type": "code",
   "execution_count": null,
   "id": "be686a47",
   "metadata": {},
   "outputs": [],
   "source": [
    "city_lat_long_df[(city_lat_long_df.latitude < 8.4) | (city_lat_long_df.latitude > 37.6)]"
   ]
  },
  {
   "cell_type": "code",
   "execution_count": null,
   "id": "fd370603",
   "metadata": {},
   "outputs": [],
   "source": [
    "city_lat_long_df[(city_lat_long_df.longitude < 68.7) & (city_lat_long_df.longitude > 97.25)]"
   ]
  },
  {
   "cell_type": "markdown",
   "id": "d9273e27",
   "metadata": {},
   "source": [
    "Looks like 1 outlier"
   ]
  },
  {
   "cell_type": "code",
   "execution_count": null,
   "id": "807c6a30",
   "metadata": {},
   "outputs": [],
   "source": [
    "events_filtered_df.latitude.describe()"
   ]
  },
  {
   "cell_type": "code",
   "execution_count": null,
   "id": "0607cc87",
   "metadata": {},
   "outputs": [],
   "source": [
    "events_df.latitude.describe()"
   ]
  },
  {
   "cell_type": "code",
   "execution_count": null,
   "id": "749b94f2",
   "metadata": {
    "scrolled": false
   },
   "outputs": [],
   "source": [
    "lat_outlier = events_filtered_df[(events_filtered_df.latitude < 8.4) | (events_filtered_df.latitude > 37.6)]\n",
    "display(lat_outlier.city.unique())\n",
    "lat_outlier"
   ]
  },
  {
   "cell_type": "code",
   "execution_count": null,
   "id": "eaabeaf6",
   "metadata": {},
   "outputs": [],
   "source": [
    "long_outlier = events_filtered_df[(events_filtered_df.longitude < 68.7) | (events_filtered_df.longitude > 97.5)]\n",
    "display(long_outlier.city.unique())\n",
    "long_outlier"
   ]
  },
  {
   "cell_type": "code",
   "execution_count": null,
   "id": "9f37fee2",
   "metadata": {},
   "outputs": [],
   "source": [
    "events_filtered_df.info()"
   ]
  },
  {
   "cell_type": "markdown",
   "id": "886e4e42",
   "metadata": {},
   "source": [
    "Indore/Coordinates\n",
    "- 22.7196° N, 75.8577° E\n"
   ]
  },
  {
   "cell_type": "code",
   "execution_count": null,
   "id": "7be8bcb8",
   "metadata": {},
   "outputs": [],
   "source": [
    "events_filtered_df.head()"
   ]
  },
  {
   "cell_type": "code",
   "execution_count": null,
   "id": "af194020",
   "metadata": {},
   "outputs": [],
   "source": [
    "import math as math\n",
    "filtered_df = events_filtered_df[math.isclose(events_filtered_df.latitude, 21.28)] #math.isclose(three_tenths, almost_three_tenths)\n",
    "\n",
    "filtered_df"
   ]
  },
  {
   "cell_type": "code",
   "execution_count": null,
   "id": "9773a6fd",
   "metadata": {},
   "outputs": [],
   "source": [
    "events_filtered_df.loc[((events_filtered_df.city == \"Indore\") & (events_filtered_df.longitude == 55.27)), \"longitude\"] = 75.85"
   ]
  },
  {
   "cell_type": "code",
   "execution_count": null,
   "id": "06d2cd4c",
   "metadata": {},
   "outputs": [],
   "source": [
    "long_outlier = events_filtered_df[(events_filtered_df.longitude < 68.7) | (events_filtered_df.longitude > 97.5)]\n",
    "display(long_outlier.city.unique())\n",
    "long_outlier"
   ]
  },
  {
   "cell_type": "markdown",
   "id": "a5b9bedd",
   "metadata": {},
   "source": [
    "### Analytics"
   ]
  },
  {
   "cell_type": "markdown",
   "id": "abe2de56",
   "metadata": {},
   "source": [
    "#### 1. Distribution of Users(device_id) across States. "
   ]
  },
  {
   "cell_type": "code",
   "execution_count": null,
   "id": "a3fad83b",
   "metadata": {},
   "outputs": [],
   "source": [
    "state_city_counts = pd.DataFrame(events_filtered_df.value_counts(['state', 'city']))\n",
    "state_city_counts.columns = ['no_of_calls']\n",
    "state_city_counts.reset_index(inplace=True)\n",
    "state_city_counts.sort_values(by=['state','city'], ascending=[True,True], inplace=True)\n",
    "state_city_counts"
   ]
  },
  {
   "cell_type": "code",
   "execution_count": null,
   "id": "3177fad0",
   "metadata": {},
   "outputs": [],
   "source": [
    "state_device_counts = pd.DataFrame(events_filtered_df.groupby(['state'])['device_id'].size())\n",
    "state_device_counts.columns = ['no_of_devices']\n",
    "state_device_counts.reset_index(inplace=True)\n",
    "state_device_counts.sort_values(by=['state'], ascending=[True], inplace=True)\n",
    "state_device_counts"
   ]
  },
  {
   "cell_type": "code",
   "execution_count": null,
   "id": "210df4c1",
   "metadata": {},
   "outputs": [],
   "source": [
    "state_city_device_counts = pd.DataFrame(events_filtered_df.groupby(['state','city'])['device_id'].size())\n",
    "state_city_device_counts.columns = ['no_of_devices']\n",
    "state_city_device_counts.reset_index(inplace=True)\n",
    "state_city_device_counts.sort_values(by=['no_of_devices'], ascending=[False], inplace=True)\n",
    "state_city_device_counts[:10]"
   ]
  },
  {
   "cell_type": "markdown",
   "id": "e0971d52",
   "metadata": {},
   "source": [
    "#### 2. Distribution of Users across Phone Brands(Consider only 10 Most used Phone Brands). "
   ]
  },
  {
   "cell_type": "code",
   "execution_count": null,
   "id": "f462109e",
   "metadata": {},
   "outputs": [],
   "source": [
    "gender_phone_df = pd.read_csv(\"merged_gender_phone_df.csv\",index_col=False)\n",
    "gender_phone_df.drop(columns='Unnamed: 0', inplace=True)\n",
    "gender_phone_df.head()"
   ]
  },
  {
   "cell_type": "code",
   "execution_count": null,
   "id": "eff27f40",
   "metadata": {},
   "outputs": [],
   "source": [
    "user_phone_brand_counts = pd.DataFrame(gender_phone_df.groupby(['brand_eng'])['device_id'].size())\n",
    "user_phone_brand_counts.columns=['brand_counts']\n",
    "user_phone_brand_counts.reset_index(inplace=True)\n",
    "user_phone_brand_counts.sort_values(by='brand_counts', ascending=False, inplace=True)\n",
    "user_phone_brand_counts[:10]"
   ]
  },
  {
   "cell_type": "code",
   "execution_count": null,
   "id": "2df3f85b",
   "metadata": {},
   "outputs": [],
   "source": [
    "user_phone_model_counts = pd.DataFrame(gender_phone_df.groupby(['brand_eng','phone_brand_eng'])['device_id'].size())\n",
    "user_phone_model_counts.columns=['phone_brand_counts']\n",
    "user_phone_model_counts.reset_index(inplace=True)\n",
    "user_phone_model_counts.sort_values(by='phone_brand_counts', ascending=False, inplace=True)\n",
    "user_phone_model_counts[:10]"
   ]
  },
  {
   "cell_type": "markdown",
   "id": "959f7281",
   "metadata": {},
   "source": [
    "#### 3. Distribution of Users across Gender."
   ]
  },
  {
   "cell_type": "code",
   "execution_count": null,
   "id": "048ddcb8",
   "metadata": {},
   "outputs": [],
   "source": [
    "gender_phone_df.columns"
   ]
  },
  {
   "cell_type": "code",
   "execution_count": null,
   "id": "dd90a2bd",
   "metadata": {},
   "outputs": [],
   "source": [
    "user_gender_counts = pd.DataFrame(gender_phone_df.groupby(['user_gender'])['device_id'].size())\n",
    "user_gender_counts.columns=['gender_device_counts']\n",
    "user_gender_counts.reset_index(inplace=True)\n",
    "user_gender_counts.sort_values(by='gender_device_counts', ascending=False, inplace=True)\n",
    "user_gender_counts[:10]"
   ]
  },
  {
   "cell_type": "markdown",
   "id": "ebb5d10e",
   "metadata": {},
   "source": [
    "#### 4. Distribution of Users across Age Segments. "
   ]
  },
  {
   "cell_type": "code",
   "execution_count": null,
   "id": "dec0acd4",
   "metadata": {},
   "outputs": [],
   "source": [
    "user_age_segments_counts = pd.DataFrame(gender_phone_df.groupby(['age_group'])['device_id'].size())\n",
    "user_age_segments_counts.columns=['age_segments_device_counts']\n",
    "user_age_segments_counts.reset_index(inplace=True)\n",
    "user_age_segments_counts.sort_values(by='age_segments_device_counts', ascending=False, inplace=True)\n",
    "user_age_segments_counts[:10]"
   ]
  },
  {
   "cell_type": "code",
   "execution_count": null,
   "id": "c1c96a26",
   "metadata": {},
   "outputs": [],
   "source": []
  },
  {
   "cell_type": "code",
   "execution_count": null,
   "id": "af09be5b",
   "metadata": {},
   "outputs": [],
   "source": []
  },
  {
   "cell_type": "code",
   "execution_count": null,
   "id": "6b8ac0d8",
   "metadata": {},
   "outputs": [],
   "source": []
  },
  {
   "cell_type": "code",
   "execution_count": null,
   "id": "048e03ab",
   "metadata": {},
   "outputs": [],
   "source": []
  },
  {
   "cell_type": "code",
   "execution_count": null,
   "id": "261524b3",
   "metadata": {},
   "outputs": [],
   "source": [
    "x = events_filtered_df[events_filtered_df.city == 'Indore']\n",
    "x.shape"
   ]
  },
  {
   "cell_type": "code",
   "execution_count": null,
   "id": "0839a0b8",
   "metadata": {},
   "outputs": [],
   "source": [
    "city_lat_long_df[city_lat_long_df.city.isin(['Indore'])]"
   ]
  },
  {
   "cell_type": "code",
   "execution_count": null,
   "id": "4a31dfd8",
   "metadata": {},
   "outputs": [],
   "source": [
    "lat_outlier.shape"
   ]
  },
  {
   "cell_type": "code",
   "execution_count": null,
   "id": "3a15764d",
   "metadata": {},
   "outputs": [],
   "source": [
    "events_filtered_df.longitude.describe()"
   ]
  },
  {
   "cell_type": "code",
   "execution_count": null,
   "id": "2c7cfa71",
   "metadata": {},
   "outputs": [],
   "source": [
    "events_filtered_df[(events_filtered_df.longitude < 68.7) & (events_filtered_df.longitude > 97.25)]"
   ]
  },
  {
   "cell_type": "code",
   "execution_count": null,
   "id": "b050d285",
   "metadata": {},
   "outputs": [],
   "source": []
  },
  {
   "cell_type": "markdown",
   "id": "741338db",
   "metadata": {},
   "source": [
    "# Visualisation"
   ]
  },
  {
   "cell_type": "code",
   "execution_count": null,
   "id": "8631b170",
   "metadata": {},
   "outputs": [],
   "source": [
    "!pip install folium"
   ]
  },
  {
   "cell_type": "code",
   "execution_count": null,
   "id": "4c05427e",
   "metadata": {},
   "outputs": [],
   "source": [
    "import folium"
   ]
  },
  {
   "cell_type": "code",
   "execution_count": null,
   "id": "5e82aba5",
   "metadata": {},
   "outputs": [],
   "source": [
    "events_filtered_df.info()"
   ]
  },
  {
   "cell_type": "code",
   "execution_count": null,
   "id": "7b7e0008",
   "metadata": {},
   "outputs": [],
   "source": [
    "phone_usage_df_Goa = events_filtered_df[events_filtered_df.state == 'Goa']\n",
    "display(phone_usage_df_Goa.shape)\n",
    "phone_usage_df_Goa.head()"
   ]
  },
  {
   "cell_type": "code",
   "execution_count": null,
   "id": "c9a99935",
   "metadata": {},
   "outputs": [],
   "source": [
    "phone_usage_df = pd.DataFrame(events_filtered_df.groupby(['city','latitude','longitude'])['event_id'].size())\n",
    "display(phone_usage_df.shape)\n",
    "phone_usage_df.columns=['no_of_calls']\n",
    "phone_usage_df.reset_index(inplace=True)\n",
    "phone_usage_df.head()"
   ]
  },
  {
   "cell_type": "code",
   "execution_count": null,
   "id": "107e2297",
   "metadata": {},
   "outputs": [],
   "source": [
    "latitude = 20.5937\n",
    "longitude = 78.9629\n",
    "phone_map = folium.Map(location=[latitude, longitude], zoom_start=5)"
   ]
  },
  {
   "cell_type": "code",
   "execution_count": null,
   "id": "4bb22630",
   "metadata": {},
   "outputs": [],
   "source": [
    "#phone_map"
   ]
  },
  {
   "cell_type": "code",
   "execution_count": null,
   "id": "8d12d2b0",
   "metadata": {},
   "outputs": [],
   "source": [
    "for index, phone_usage_df in phone_usage_df.iterrows():\n",
    "    location = [phone_usage_df['latitude'], phone_usage_df['longitude']]\n",
    "    folium.Marker(location, popup = f'Events:{phone_usage_df[\"no_of_calls\"]}\\n City:{phone_usage_df[\"city\"]}').add_to(phone_map)\n",
    "    #folium.Marker(location).add_to(phone_map)\n"
   ]
  },
  {
   "cell_type": "code",
   "execution_count": null,
   "id": "799d9026",
   "metadata": {},
   "outputs": [],
   "source": [
    "for index, phone_usage_df_Goa in phone_usage_df_Goa.iterrows():\n",
    "    location = [phone_usage_df_Goa['latitude'], phone_usage_df_Goa['longitude']]\n",
    "    folium.Marker(location, popup = f'Events:{phone_usage_df_Goa[\"event_id\"]}\\n Device:{phone_usage_df_Goa[\"device_id\"]}').add_to(phone_map)\n",
    "    #folium.Marker(location).add_to(phone_map)\n"
   ]
  },
  {
   "cell_type": "code",
   "execution_count": null,
   "id": "ad257eba",
   "metadata": {},
   "outputs": [],
   "source": [
    "phone_map#.save('index.html')"
   ]
  },
  {
   "cell_type": "code",
   "execution_count": null,
   "id": "44cd4960",
   "metadata": {},
   "outputs": [],
   "source": [
    "phone_map.save('index.html')\n"
   ]
  },
  {
   "cell_type": "code",
   "execution_count": null,
   "id": "c09e55f1",
   "metadata": {},
   "outputs": [],
   "source": []
  },
  {
   "cell_type": "code",
   "execution_count": null,
   "id": "bb2c36d2",
   "metadata": {},
   "outputs": [],
   "source": []
  }
 ],
 "metadata": {
  "kernelspec": {
   "display_name": "Python 3",
   "language": "python",
   "name": "python3"
  },
  "language_info": {
   "codemirror_mode": {
    "name": "ipython",
    "version": 3
   },
   "file_extension": ".py",
   "mimetype": "text/x-python",
   "name": "python",
   "nbconvert_exporter": "python",
   "pygments_lexer": "ipython3",
   "version": "3.8.8"
  }
 },
 "nbformat": 4,
 "nbformat_minor": 5
}
